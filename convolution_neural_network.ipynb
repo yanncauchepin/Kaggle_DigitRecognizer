{
 "cells": [
  {
   "cell_type": "markdown",
   "metadata": {},
   "source": [
    "### **HuggingFace Login**"
   ]
  },
  {
   "cell_type": "code",
   "execution_count": 10,
   "metadata": {},
   "outputs": [
    {
     "data": {
      "application/vnd.jupyter.widget-view+json": {
       "model_id": "cd10bf6bb11c45b89eddba148f541dd8",
       "version_major": 2,
       "version_minor": 0
      },
      "text/plain": [
       "VBox(children=(HTML(value='<center> <img\\nsrc=https://huggingface.co/front/assets/huggingface_logo-noborder.sv…"
      ]
     },
     "metadata": {},
     "output_type": "display_data"
    }
   ],
   "source": [
    "from huggingface_hub import login\n",
    "login()"
   ]
  },
  {
   "cell_type": "markdown",
   "metadata": {},
   "source": [
    "### **Import Libairies**"
   ]
  },
  {
   "cell_type": "code",
   "execution_count": 1,
   "metadata": {},
   "outputs": [],
   "source": [
    "from IPython.display import display\n",
    "\n",
    "import pandas as pd\n",
    "import numpy as np\n",
    "\n",
    "from sklearn.metrics import f1_score, precision_score, recall_score, confusion_matrix\n",
    "from sklearn.model_selection import train_test_split\n",
    "\n",
    "from tensorflow.keras.models import Sequential\n",
    "from tensorflow.keras.layers import Dense, Dropout\n",
    "from tensorflow.keras.callbacks import EarlyStopping\n",
    "from sklearn.metrics import f1_score\n",
    "from tensorflow.keras.callbacks import Callback\n",
    "\n",
    "import torch\n",
    "from torchvision import transforms\n",
    "from torch.utils.data import DataLoader, TensorDataset\n",
    "import torch.nn as nn\n",
    "import torch.optim as optim\n",
    "from sklearn.metrics import accuracy_score, classification_report, f1_score\n",
    "from datasets import Dataset\n"
   ]
  },
  {
   "cell_type": "markdown",
   "metadata": {},
   "source": [
    "### **Read Datasets**"
   ]
  },
  {
   "cell_type": "code",
   "execution_count": 2,
   "metadata": {},
   "outputs": [],
   "source": [
    "'''\n",
    "df_train = pd.read_csv('/media/yanncauchepin/ExternalDisk/Datasets/ComputerVisionImages/digit_recognizer/train.csv')\n",
    "df_test = pd.read_csv('/media/yanncauchepin/ExternalDisk/Datasets/ComputerVisionImages/digit_recognizer/test.csv')\n",
    "'''\n",
    "df_train = pd.read_csv('C:/Users/cauchepy/Datasets/ComputerVisionImages/kaggle_digitrecognizer/train.csv')\n",
    "df_test = pd.read_csv('C:/Users/cauchepy/Datasets/ComputerVisionImages/kaggle_digitrecognizer/test.csv')"
   ]
  },
  {
   "cell_type": "markdown",
   "metadata": {},
   "source": [
    "### **Short Analysis**"
   ]
  },
  {
   "cell_type": "code",
   "execution_count": 3,
   "metadata": {},
   "outputs": [
    {
     "data": {
      "text/html": [
       "<div>\n",
       "<style scoped>\n",
       "    .dataframe tbody tr th:only-of-type {\n",
       "        vertical-align: middle;\n",
       "    }\n",
       "\n",
       "    .dataframe tbody tr th {\n",
       "        vertical-align: top;\n",
       "    }\n",
       "\n",
       "    .dataframe thead th {\n",
       "        text-align: right;\n",
       "    }\n",
       "</style>\n",
       "<table border=\"1\" class=\"dataframe\">\n",
       "  <thead>\n",
       "    <tr style=\"text-align: right;\">\n",
       "      <th></th>\n",
       "      <th>count</th>\n",
       "    </tr>\n",
       "    <tr>\n",
       "      <th>label</th>\n",
       "      <th></th>\n",
       "    </tr>\n",
       "  </thead>\n",
       "  <tbody>\n",
       "    <tr>\n",
       "      <th>1</th>\n",
       "      <td>4684</td>\n",
       "    </tr>\n",
       "    <tr>\n",
       "      <th>7</th>\n",
       "      <td>4401</td>\n",
       "    </tr>\n",
       "    <tr>\n",
       "      <th>3</th>\n",
       "      <td>4351</td>\n",
       "    </tr>\n",
       "    <tr>\n",
       "      <th>9</th>\n",
       "      <td>4188</td>\n",
       "    </tr>\n",
       "    <tr>\n",
       "      <th>2</th>\n",
       "      <td>4177</td>\n",
       "    </tr>\n",
       "    <tr>\n",
       "      <th>6</th>\n",
       "      <td>4137</td>\n",
       "    </tr>\n",
       "    <tr>\n",
       "      <th>0</th>\n",
       "      <td>4132</td>\n",
       "    </tr>\n",
       "    <tr>\n",
       "      <th>4</th>\n",
       "      <td>4072</td>\n",
       "    </tr>\n",
       "    <tr>\n",
       "      <th>8</th>\n",
       "      <td>4063</td>\n",
       "    </tr>\n",
       "    <tr>\n",
       "      <th>5</th>\n",
       "      <td>3795</td>\n",
       "    </tr>\n",
       "  </tbody>\n",
       "</table>\n",
       "</div>"
      ],
      "text/plain": [
       "       count\n",
       "label       \n",
       "1       4684\n",
       "7       4401\n",
       "3       4351\n",
       "9       4188\n",
       "2       4177\n",
       "6       4137\n",
       "0       4132\n",
       "4       4072\n",
       "8       4063\n",
       "5       3795"
      ]
     },
     "metadata": {},
     "output_type": "display_data"
    }
   ],
   "source": [
    "distinct_labels = df_train['label'].value_counts()\n",
    "display(pd.DataFrame(distinct_labels))\n",
    "classes = len(df_train[\"label\"].unique())"
   ]
  },
  {
   "cell_type": "markdown",
   "metadata": {},
   "source": [
    "### **Preprocess Datasets**"
   ]
  },
  {
   "cell_type": "code",
   "execution_count": 4,
   "metadata": {},
   "outputs": [],
   "source": [
    "y_train = np.array(df_train['label'])\n",
    "X_train = np.array(df_train.drop('label', axis=1))\n",
    "X_test = np.array(df_test)"
   ]
  },
  {
   "cell_type": "code",
   "execution_count": 5,
   "metadata": {},
   "outputs": [],
   "source": [
    "X_train, X_valid, y_train, y_valid = train_test_split(X_train, y_train, test_size=0.2, stratify=y_train, random_state=42)"
   ]
  },
  {
   "cell_type": "code",
   "execution_count": 6,
   "metadata": {},
   "outputs": [],
   "source": [
    "X_train_norm = X_train / 255.0\n",
    "X_valid_norm = X_valid / 255.0\n",
    "X_test_norm = X_test / 255.0"
   ]
  },
  {
   "cell_type": "markdown",
   "metadata": {},
   "source": [
    "### **Model Assessment**"
   ]
  },
  {
   "cell_type": "code",
   "execution_count": 7,
   "metadata": {},
   "outputs": [],
   "source": [
    "def evaluate_classifier(y_true, y_pred):\n",
    "    f1 = f1_score(y_true, y_pred, average='weighted')\n",
    "    precision = precision_score(y_true, y_pred, average='weighted')\n",
    "    recall = recall_score(y_true, y_pred, average='weighted')\n",
    "    cm = confusion_matrix(y_true, y_pred)\n",
    "    \n",
    "    metrics_df = pd.DataFrame({\n",
    "        'Metric': ['F1 Score', 'Precision', 'Recall'],\n",
    "        'Value': [f1, precision, recall]\n",
    "    })\n",
    "    \n",
    "    cm_df = pd.DataFrame(cm, columns=df_train[\"label\"].unique(), index=df_train[\"label\"].unique())\n",
    "    \n",
    "    return metrics_df, cm_df"
   ]
  },
  {
   "cell_type": "markdown",
   "metadata": {},
   "source": [
    "### **Modeling**"
   ]
  },
  {
   "cell_type": "code",
   "execution_count": null,
   "metadata": {},
   "outputs": [
    {
     "name": "stdout",
     "output_type": "stream",
     "text": [
      "\n",
      "Epoch 1/100\n",
      "Train Loss: 0.2530, Train Accuracy: 0.9273, Train F1 Score: 0.9273\n",
      "Validation Loss: 0.0587, Validation Accuracy: 0.9808, Validation F1 Score: 0.9809\n",
      "\n",
      "Epoch 2/100\n",
      "Train Loss: 0.1173, Train Accuracy: 0.9659, Train F1 Score: 0.9659\n",
      "Validation Loss: 0.0492, Validation Accuracy: 0.9849, Validation F1 Score: 0.9849\n",
      "\n",
      "Epoch 3/100\n",
      "Train Loss: 0.1021, Train Accuracy: 0.9711, Train F1 Score: 0.9711\n",
      "Validation Loss: 0.0317, Validation Accuracy: 0.9902, Validation F1 Score: 0.9902\n",
      "\n",
      "Epoch 4/100\n",
      "Train Loss: 0.0806, Train Accuracy: 0.9770, Train F1 Score: 0.9770\n",
      "Validation Loss: 0.0326, Validation Accuracy: 0.9918, Validation F1 Score: 0.9918\n",
      "Early stopping counter: 1/3\n",
      "\n",
      "Epoch 5/100\n",
      "Train Loss: 0.0728, Train Accuracy: 0.9787, Train F1 Score: 0.9787\n",
      "Validation Loss: 0.0301, Validation Accuracy: 0.9913, Validation F1 Score: 0.9913\n",
      "\n",
      "Epoch 6/100\n",
      "Train Loss: 0.0664, Train Accuracy: 0.9805, Train F1 Score: 0.9805\n",
      "Validation Loss: 0.0514, Validation Accuracy: 0.9873, Validation F1 Score: 0.9873\n",
      "Early stopping counter: 1/3\n",
      "\n",
      "Epoch 7/100\n",
      "Train Loss: 0.0619, Train Accuracy: 0.9820, Train F1 Score: 0.9820\n",
      "Validation Loss: 0.0281, Validation Accuracy: 0.9918, Validation F1 Score: 0.9918\n",
      "\n",
      "Epoch 8/100\n",
      "Train Loss: 0.0534, Train Accuracy: 0.9849, Train F1 Score: 0.9849\n",
      "Validation Loss: 0.0260, Validation Accuracy: 0.9927, Validation F1 Score: 0.9927\n",
      "\n",
      "Epoch 9/100\n",
      "Train Loss: 0.0490, Train Accuracy: 0.9857, Train F1 Score: 0.9857\n",
      "Validation Loss: 0.0344, Validation Accuracy: 0.9911, Validation F1 Score: 0.9911\n",
      "Early stopping counter: 1/3\n",
      "\n",
      "Epoch 10/100\n",
      "Train Loss: 0.0461, Train Accuracy: 0.9868, Train F1 Score: 0.9868\n",
      "Validation Loss: 0.0340, Validation Accuracy: 0.9919, Validation F1 Score: 0.9919\n",
      "Early stopping counter: 2/3\n",
      "\n",
      "Epoch 11/100\n",
      "Train Loss: 0.0494, Train Accuracy: 0.9864, Train F1 Score: 0.9864\n",
      "Validation Loss: 0.0231, Validation Accuracy: 0.9937, Validation F1 Score: 0.9937\n",
      "\n",
      "Epoch 12/100\n",
      "Train Loss: 0.0408, Train Accuracy: 0.9885, Train F1 Score: 0.9885\n",
      "Validation Loss: 0.0341, Validation Accuracy: 0.9907, Validation F1 Score: 0.9907\n",
      "Early stopping counter: 1/3\n",
      "\n",
      "Epoch 13/100\n",
      "Train Loss: 0.0421, Train Accuracy: 0.9879, Train F1 Score: 0.9879\n",
      "Validation Loss: 0.0291, Validation Accuracy: 0.9929, Validation F1 Score: 0.9929\n",
      "Early stopping counter: 2/3\n",
      "\n",
      "Epoch 14/100\n",
      "Train Loss: 0.0381, Train Accuracy: 0.9893, Train F1 Score: 0.9893\n",
      "Validation Loss: 0.0267, Validation Accuracy: 0.9929, Validation F1 Score: 0.9929\n",
      "Early stopping counter: 3/3\n",
      "Early stopping triggered.\n",
      "Final Validation Accuracy: 0.9929\n",
      "Classification Report:\n",
      "               precision    recall  f1-score   support\n",
      "\n",
      "           0       0.99      1.00      1.00       827\n",
      "           1       0.99      1.00      1.00       937\n",
      "           2       0.99      0.99      0.99       835\n",
      "           3       1.00      0.99      0.99       870\n",
      "           4       0.99      1.00      0.99       814\n",
      "           5       0.99      0.99      0.99       759\n",
      "           6       0.99      1.00      0.99       827\n",
      "           7       0.99      0.99      0.99       880\n",
      "           8       0.99      0.99      0.99       813\n",
      "           9       0.98      0.99      0.99       838\n",
      "\n",
      "    accuracy                           0.99      8400\n",
      "   macro avg       0.99      0.99      0.99      8400\n",
      "weighted avg       0.99      0.99      0.99      8400\n",
      "\n"
     ]
    },
    {
     "data": {
      "application/vnd.jupyter.widget-view+json": {
       "model_id": "8aa66fd9450840e4806680b39c354c8d",
       "version_major": 2,
       "version_minor": 0
      },
      "text/plain": [
       "Uploading the dataset shards:   0%|          | 0/1 [00:00<?, ?it/s]"
      ]
     },
     "metadata": {},
     "output_type": "display_data"
    },
    {
     "data": {
      "application/vnd.jupyter.widget-view+json": {
       "model_id": "1617d49f9aeb4e49af4eb67f0ab3d849",
       "version_major": 2,
       "version_minor": 0
      },
      "text/plain": [
       "Creating parquet from Arrow format:   0%|          | 0/28 [00:00<?, ?ba/s]"
      ]
     },
     "metadata": {},
     "output_type": "display_data"
    },
    {
     "data": {
      "application/vnd.jupyter.widget-view+json": {
       "model_id": "a8c934aa68ea473c8d5c65e3e6e96eef",
       "version_major": 2,
       "version_minor": 0
      },
      "text/plain": [
       "README.md:   0%|          | 0.00/307 [00:00<?, ?B/s]"
      ]
     },
     "metadata": {},
     "output_type": "display_data"
    },
    {
     "data": {
      "text/plain": [
       "CommitInfo(commit_url='https://huggingface.co/datasets/yanncauchepin/kaggle_digitrecognizer_cnn_submission_df_2/commit/1b5be79d02dda63186a524ede508071ce1f3dcb0', commit_message='Upload dataset', commit_description='', oid='1b5be79d02dda63186a524ede508071ce1f3dcb0', pr_url=None, repo_url=RepoUrl('https://huggingface.co/datasets/yanncauchepin/kaggle_digitrecognizer_cnn_submission_df_2', endpoint='https://huggingface.co', repo_type='dataset', repo_id='yanncauchepin/kaggle_digitrecognizer_cnn_submission_df_2'), pr_revision=None, pr_num=None)"
      ]
     },
     "execution_count": 22,
     "metadata": {},
     "output_type": "execute_result"
    }
   ],
   "source": [
    "# Define the CNN model\n",
    "class CNN(nn.Module):\n",
    "    def __init__(self):\n",
    "        super(CNN, self).__init__()\n",
    "        self.model = nn.Sequential(\n",
    "        \n",
    "            nn.Conv2d(1, 16, kernel_size=5, padding=2, stride=1),\n",
    "            nn.BatchNorm2d(16),\n",
    "            nn.ReLU(),\n",
    "            nn.MaxPool2d((2, 2)), \n",
    "            \n",
    "            nn.Conv2d(16, 32, kernel_size=3, padding=1, stride=1),\n",
    "            nn.BatchNorm2d(32),\n",
    "            nn.ReLU(),\n",
    "            \n",
    "            nn.Conv2d(32, 64, kernel_size=3, padding=1, stride=1),\n",
    "            nn.BatchNorm2d(64),\n",
    "            nn.ReLU(),\n",
    "            nn.MaxPool2d((2, 2)),  \n",
    "            \n",
    "            nn.Conv2d(64, 128, kernel_size=3, padding=1, stride=1),\n",
    "            nn.BatchNorm2d(128),\n",
    "            nn.ReLU(),\n",
    "            nn.MaxPool2d((2, 2)),  \n",
    "            \n",
    "            nn.Flatten(), \n",
    "            \n",
    "            nn.Linear(128 * 3 * 3, 100), \n",
    "            nn.BatchNorm1d(100),\n",
    "            nn.ReLU(),\n",
    "            nn.Dropout(0.25),\n",
    "            \n",
    "            nn.Linear(100, 64),\n",
    "            nn.ReLU(),\n",
    "            nn.Dropout(0.25),\n",
    "            \n",
    "            nn.Linear(64, 10)  \n",
    "        )\n",
    "    \n",
    "    def forward(self, X):\n",
    "        return self.model(X)\n",
    "\n",
    "# Define transformation, dataset, and dataloaders\n",
    "transform = transforms.Compose([\n",
    "    transforms.Lambda(lambda x: x.reshape(28, 28).astype(np.float32)),\n",
    "    transforms.ToTensor(),\n",
    "])\n",
    "\n",
    "device = torch.device(\"cuda\" if torch.cuda.is_available() else \"cpu\")\n",
    "\n",
    "# Assuming X_train and X_valid are numpy arrays containing your data\n",
    "X_train_transformed = torch.stack([transform(x) for x in X_train]).to(device)\n",
    "X_valid_transformed = torch.stack([transform(x) for x in X_valid]).to(device)\n",
    "y_train_tensor = torch.tensor(y_train).to(device)\n",
    "y_valid_tensor = torch.tensor(y_valid).to(device)\n",
    "\n",
    "train_dataset = TensorDataset(X_train_transformed, y_train_tensor)\n",
    "valid_dataset = TensorDataset(X_valid_transformed, y_valid_tensor)\n",
    "train_loader = DataLoader(train_dataset, batch_size=8, shuffle=True)\n",
    "valid_loader = DataLoader(valid_dataset, batch_size=8)\n",
    "\n",
    "# Set up device, model, loss, and optimizer\n",
    "cnn_classifier = CNN().to(device)\n",
    "criterion = nn.CrossEntropyLoss().to(device)\n",
    "optimizer = optim.Adam(cnn_classifier.parameters(), lr=0.001)\n",
    "\n",
    "# Training function with F1 score tracking\n",
    "def train_one_epoch(dataloader, model, loss_fn, optimizer, device):\n",
    "    model.train()\n",
    "    num_correct = 0\n",
    "    track_loss = 0\n",
    "    all_preds = []\n",
    "    all_labels = []\n",
    "\n",
    "    for i, (imgs, labels) in enumerate(dataloader):\n",
    "        imgs, labels = imgs.to(device), labels.to(device)\n",
    "        \n",
    "        # Forward pass\n",
    "        pred = model(imgs)\n",
    "        loss = loss_fn(pred, labels)\n",
    "        track_loss += loss.item()\n",
    "        \n",
    "        # Accumulate predictions and labels\n",
    "        all_preds.extend(torch.argmax(pred, dim=1).cpu().numpy())\n",
    "        all_labels.extend(labels.cpu().numpy())\n",
    "        \n",
    "        # Backward pass\n",
    "        loss.backward()\n",
    "        optimizer.step()\n",
    "        optimizer.zero_grad()\n",
    "        \n",
    "    # Calculate metrics\n",
    "    epoch_loss = track_loss / len(dataloader)\n",
    "    epoch_acc = accuracy_score(all_labels, all_preds)\n",
    "    epoch_f1 = f1_score(all_labels, all_preds, average=\"weighted\")\n",
    "    \n",
    "    return epoch_loss, epoch_acc, epoch_f1\n",
    "\n",
    "# Early stopping parameters\n",
    "patience = 3\n",
    "best_val_loss = float('inf')\n",
    "early_stopping_counter = 0\n",
    "\n",
    "# Main training loop with early stopping\n",
    "num_epochs = 100\n",
    "for epoch in range(num_epochs):\n",
    "    print(f\"\\nEpoch {epoch + 1}/{num_epochs}\")\n",
    "    train_loss, train_acc, train_f1 = train_one_epoch(train_loader, cnn_classifier, criterion, optimizer, device)\n",
    "    \n",
    "    # Validation phase\n",
    "    cnn_classifier.eval()\n",
    "    val_loss = 0.0\n",
    "    all_val_preds, all_val_labels = [], []\n",
    "    with torch.no_grad():\n",
    "        for inputs, labels in valid_loader:\n",
    "            inputs, labels = inputs.to(device), labels.to(device)\n",
    "            outputs = cnn_classifier(inputs)\n",
    "            loss = criterion(outputs, labels)\n",
    "            val_loss += loss.item()\n",
    "            \n",
    "            all_val_preds.extend(torch.argmax(outputs, axis=1).cpu().numpy())\n",
    "            all_val_labels.extend(labels.cpu().numpy())\n",
    "    \n",
    "    val_loss /= len(valid_loader)\n",
    "    val_accuracy = accuracy_score(all_val_labels, all_val_preds)\n",
    "    val_f1 = f1_score(all_val_labels, all_val_preds, average=\"weighted\")\n",
    "    \n",
    "    print(f\"Train Loss: {train_loss:.4f}, Train Accuracy: {train_acc:.4f}, Train F1 Score: {train_f1:.4f}\")\n",
    "    print(f\"Validation Loss: {val_loss:.4f}, Validation Accuracy: {val_accuracy:.4f}, Validation F1 Score: {val_f1:.4f}\")\n",
    "    \n",
    "    # Check for early stopping\n",
    "    if val_loss < best_val_loss:\n",
    "        best_val_loss = val_loss\n",
    "        early_stopping_counter = 0  # Reset counter if validation loss improves\n",
    "    else:\n",
    "        early_stopping_counter += 1\n",
    "        print(f\"Early stopping counter: {early_stopping_counter}/{patience}\")\n",
    "    \n",
    "    if early_stopping_counter >= patience:\n",
    "        print(\"Early stopping triggered.\")\n",
    "        break\n",
    "\n",
    "# Final Evaluation on validation set\n",
    "cnn_classifier.eval()\n",
    "all_cnn_classifier_preds, all_cnn_classifier_labels = [], []\n",
    "\n",
    "with torch.no_grad():\n",
    "    for inputs, labels in valid_loader:\n",
    "        inputs, labels = inputs.to(device), labels.to(device)\n",
    "        outputs = cnn_classifier(inputs)\n",
    "        preds = torch.argmax(outputs, axis=1)\n",
    "        \n",
    "        all_cnn_classifier_preds.extend(preds.cpu().numpy())\n",
    "        all_cnn_classifier_labels.extend(labels.cpu().numpy())\n",
    "\n",
    "# Calculate final accuracy and classification report\n",
    "accuracy = accuracy_score(all_cnn_classifier_labels, all_cnn_classifier_preds)\n",
    "print(f\"Final Validation Accuracy: {accuracy:.4f}\")\n",
    "print(\"Classification Report:\\n\", classification_report(all_cnn_classifier_labels, all_cnn_classifier_preds))\n",
    "\n",
    "# Generate submission for test set\n",
    "X_test_transformed = torch.stack([transform(x) for x in X_test]).to(device)\n",
    "test_dataset = TensorDataset(X_test_transformed)\n",
    "test_loader = DataLoader(test_dataset, batch_size=8)\n",
    "\n",
    "cnn_classifier.eval()\n",
    "test_preds = []\n",
    "\n",
    "with torch.no_grad():\n",
    "    for inputs in test_loader:\n",
    "        inputs = inputs[0].to(device)\n",
    "        outputs = cnn_classifier(inputs)\n",
    "        preds = torch.argmax(outputs, axis=1)\n",
    "        test_preds.extend(preds.cpu().numpy())\n",
    "\n",
    "cnn_classifier_submission_df = pd.DataFrame({\n",
    "    \"ImageId\": range(1, len(test_preds) + 1),\n",
    "    \"Label\": test_preds\n",
    "})\n",
    "\n",
    "Dataset.from_pandas(cnn_classifier_submission_df).push_to_hub(\"yanncauchepin/kaggle_digitrecognizer_cnn_submission_df_2\")"
   ]
  },
  {
   "cell_type": "code",
   "execution_count": 23,
   "metadata": {},
   "outputs": [
    {
     "data": {
      "application/vnd.jupyter.widget-view+json": {
       "model_id": "bc6006194cfa4672b4fedbcd5da80864",
       "version_major": 2,
       "version_minor": 0
      },
      "text/plain": [
       "custom_pytorch_cnn.pth:   0%|          | 0.00/898k [00:00<?, ?B/s]"
      ]
     },
     "metadata": {},
     "output_type": "display_data"
    },
    {
     "name": "stderr",
     "output_type": "stream",
     "text": [
      "No files have been modified since last commit. Skipping to prevent empty commit.\n"
     ]
    },
    {
     "data": {
      "text/plain": [
       "CommitInfo(commit_url='https://huggingface.co/yanncauchepin/kaggle_digitrecognizer_cnn_model/commit/534026420a7ca029316f140f16fe2c97d7732f7e', commit_message='Upload custom_pytorch_cnn.py with huggingface_hub', commit_description='', oid='534026420a7ca029316f140f16fe2c97d7732f7e', pr_url=None, repo_url=RepoUrl('https://huggingface.co/yanncauchepin/kaggle_digitrecognizer_cnn_model', endpoint='https://huggingface.co', repo_type='model', repo_id='yanncauchepin/kaggle_digitrecognizer_cnn_model'), pr_revision=None, pr_num=None)"
      ]
     },
     "execution_count": 23,
     "metadata": {},
     "output_type": "execute_result"
    }
   ],
   "source": [
    "import os\n",
    "from huggingface_hub import HfApi\n",
    "import json\n",
    "\n",
    "history_cnn = \"custom_pytorch_cnn\"\n",
    "os.makedirs(history_cnn, exist_ok=True)\n",
    "\n",
    "torch.save(cnn_classifier.state_dict(), os.path.join(history_cnn, \"custom_pytorch_cnn.pth\"))\n",
    "\n",
    "config = {\n",
    "    \"model_type\": \"custom_pytorch_cnn\",\n",
    "    \"num_labels\": 10,\n",
    "    \"input_size\": [1, 28, 28],\n",
    "    \"output_size\": 10\n",
    "}\n",
    "with open(f\"{history_cnn}/config.json\", \"w\") as f:\n",
    "    json.dump(config, f)\n",
    "    \n",
    "model_code = '''import torch\n",
    "import torch.nn as nn\n",
    "\n",
    "class CNN(nn.Module):\n",
    "    def __init__(self):\n",
    "        super(CNN, self).__init__()\n",
    "        self.model = nn.Sequential(\n",
    "        \n",
    "            nn.Conv2d(1, 16, kernel_size=5, padding=2, stride=1),\n",
    "            nn.BatchNorm2d(16),\n",
    "            nn.ReLU(),\n",
    "            nn.MaxPool2d((2, 2)), \n",
    "            \n",
    "            nn.Conv2d(16, 32, kernel_size=3, padding=1, stride=1),\n",
    "            nn.BatchNorm2d(32),\n",
    "            nn.ReLU(),\n",
    "            \n",
    "            nn.Conv2d(32, 64, kernel_size=3, padding=1, stride=1),\n",
    "            nn.BatchNorm2d(64),\n",
    "            nn.ReLU(),\n",
    "            nn.MaxPool2d((2, 2)),  \n",
    "            \n",
    "            nn.Conv2d(64, 128, kernel_size=3, padding=1, stride=1),\n",
    "            nn.BatchNorm2d(128),\n",
    "            nn.ReLU(),\n",
    "            nn.MaxPool2d((2, 2)),  \n",
    "            \n",
    "            nn.Flatten(), \n",
    "            \n",
    "            nn.Linear(128 * 3 * 3, 100), \n",
    "            nn.BatchNorm1d(100),\n",
    "            nn.ReLU(),\n",
    "            nn.Dropout(0.25),\n",
    "            \n",
    "            nn.Linear(100, 64),\n",
    "            nn.ReLU(),\n",
    "            nn.Dropout(0.25),\n",
    "            \n",
    "            nn.Linear(64, 10)  \n",
    "        )\n",
    "    \n",
    "    def forward(self, X):\n",
    "        return self.model(X)\n",
    "'''\n",
    "with open(f\"{history_cnn}/custom_pytorch_cnn.py\", \"w\") as f:\n",
    "    f.write(model_code)\n",
    "    \n",
    "api = HfApi()\n",
    "repo_id = \"yanncauchepin/kaggle_digitrecognizer_cnn_model\"\n",
    "repo_url = api.create_repo(repo_id=repo_id, exist_ok=True)\n",
    "api.upload_file(\n",
    "    path_or_fileobj=\"/home/yanncauchepin/Git/Kaggle/DigitRecognizer/notebook/custom_pytorch_cnn/custom_pytorch_cnn.pth\",\n",
    "    path_in_repo=\"custom_pytorch_cnn.pth\",\n",
    "    repo_id=repo_id\n",
    ")\n",
    "api.upload_file(\n",
    "    path_or_fileobj=\"/home/yanncauchepin/Git/Kaggle/DigitRecognizer/notebook/custom_pytorch_cnn/config.json\",\n",
    "    path_in_repo=\"config.json\",\n",
    "    repo_id=repo_id\n",
    ")\n",
    "api.upload_file(\n",
    "    path_or_fileobj=\"/home/yanncauchepin/Git/Kaggle/DigitRecognizer/notebook/custom_pytorch_cnn/custom_pytorch_cnn.py\",\n",
    "    path_in_repo=\"custom_pytorch_cnn.py\",\n",
    "    repo_id=repo_id\n",
    ")"
   ]
  },
  {
   "cell_type": "code",
   "execution_count": 55,
   "metadata": {},
   "outputs": [
    {
     "name": "stdout",
     "output_type": "stream",
     "text": [
      "Collecting torchvision\n",
      "  Downloading torchvision-0.20.1-cp312-cp312-manylinux1_x86_64.whl.metadata (6.1 kB)\n",
      "Requirement already satisfied: numpy in /home/yanncauchepin/Git/.venv/lib/python3.12/site-packages (from torchvision) (1.26.4)\n",
      "Collecting torch==2.5.1 (from torchvision)\n",
      "  Using cached torch-2.5.1-cp312-cp312-manylinux1_x86_64.whl.metadata (28 kB)\n",
      "Requirement already satisfied: pillow!=8.3.*,>=5.3.0 in /home/yanncauchepin/Git/.venv/lib/python3.12/site-packages (from torchvision) (10.4.0)\n",
      "Requirement already satisfied: filelock in /home/yanncauchepin/Git/.venv/lib/python3.12/site-packages (from torch==2.5.1->torchvision) (3.16.1)\n",
      "Requirement already satisfied: typing-extensions>=4.8.0 in /home/yanncauchepin/Git/.venv/lib/python3.12/site-packages (from torch==2.5.1->torchvision) (4.12.2)\n",
      "Requirement already satisfied: networkx in /home/yanncauchepin/Git/.venv/lib/python3.12/site-packages (from torch==2.5.1->torchvision) (3.3)\n",
      "Requirement already satisfied: jinja2 in /home/yanncauchepin/Git/.venv/lib/python3.12/site-packages (from torch==2.5.1->torchvision) (3.1.4)\n",
      "Requirement already satisfied: fsspec in /home/yanncauchepin/Git/.venv/lib/python3.12/site-packages (from torch==2.5.1->torchvision) (2024.9.0)\n",
      "Requirement already satisfied: nvidia-cuda-nvrtc-cu12==12.4.127 in /home/yanncauchepin/Git/.venv/lib/python3.12/site-packages (from torch==2.5.1->torchvision) (12.4.127)\n",
      "Requirement already satisfied: nvidia-cuda-runtime-cu12==12.4.127 in /home/yanncauchepin/Git/.venv/lib/python3.12/site-packages (from torch==2.5.1->torchvision) (12.4.127)\n",
      "Requirement already satisfied: nvidia-cuda-cupti-cu12==12.4.127 in /home/yanncauchepin/Git/.venv/lib/python3.12/site-packages (from torch==2.5.1->torchvision) (12.4.127)\n",
      "Requirement already satisfied: nvidia-cudnn-cu12==9.1.0.70 in /home/yanncauchepin/Git/.venv/lib/python3.12/site-packages (from torch==2.5.1->torchvision) (9.1.0.70)\n",
      "Requirement already satisfied: nvidia-cublas-cu12==12.4.5.8 in /home/yanncauchepin/Git/.venv/lib/python3.12/site-packages (from torch==2.5.1->torchvision) (12.4.5.8)\n",
      "Requirement already satisfied: nvidia-cufft-cu12==11.2.1.3 in /home/yanncauchepin/Git/.venv/lib/python3.12/site-packages (from torch==2.5.1->torchvision) (11.2.1.3)\n",
      "Requirement already satisfied: nvidia-curand-cu12==10.3.5.147 in /home/yanncauchepin/Git/.venv/lib/python3.12/site-packages (from torch==2.5.1->torchvision) (10.3.5.147)\n",
      "Requirement already satisfied: nvidia-cusolver-cu12==11.6.1.9 in /home/yanncauchepin/Git/.venv/lib/python3.12/site-packages (from torch==2.5.1->torchvision) (11.6.1.9)\n",
      "Requirement already satisfied: nvidia-cusparse-cu12==12.3.1.170 in /home/yanncauchepin/Git/.venv/lib/python3.12/site-packages (from torch==2.5.1->torchvision) (12.3.1.170)\n",
      "Requirement already satisfied: nvidia-nccl-cu12==2.21.5 in /home/yanncauchepin/Git/.venv/lib/python3.12/site-packages (from torch==2.5.1->torchvision) (2.21.5)\n",
      "Requirement already satisfied: nvidia-nvtx-cu12==12.4.127 in /home/yanncauchepin/Git/.venv/lib/python3.12/site-packages (from torch==2.5.1->torchvision) (12.4.127)\n",
      "Requirement already satisfied: nvidia-nvjitlink-cu12==12.4.127 in /home/yanncauchepin/Git/.venv/lib/python3.12/site-packages (from torch==2.5.1->torchvision) (12.4.127)\n",
      "Requirement already satisfied: triton==3.1.0 in /home/yanncauchepin/Git/.venv/lib/python3.12/site-packages (from torch==2.5.1->torchvision) (3.1.0)\n",
      "Requirement already satisfied: setuptools in /home/yanncauchepin/Git/.venv/lib/python3.12/site-packages (from torch==2.5.1->torchvision) (75.1.0)\n",
      "Requirement already satisfied: sympy==1.13.1 in /home/yanncauchepin/Git/.venv/lib/python3.12/site-packages (from torch==2.5.1->torchvision) (1.13.1)\n",
      "Requirement already satisfied: mpmath<1.4,>=1.1.0 in /home/yanncauchepin/Git/.venv/lib/python3.12/site-packages (from sympy==1.13.1->torch==2.5.1->torchvision) (1.3.0)\n",
      "Requirement already satisfied: MarkupSafe>=2.0 in /home/yanncauchepin/Git/.venv/lib/python3.12/site-packages (from jinja2->torch==2.5.1->torchvision) (2.1.5)\n",
      "Downloading torchvision-0.20.1-cp312-cp312-manylinux1_x86_64.whl (7.2 MB)\n",
      "\u001b[2K   \u001b[90m━━━━━━━━━━━━━━━━━━━━━━━━━━━━━━━━━━━━━━━━\u001b[0m \u001b[32m7.2/7.2 MB\u001b[0m \u001b[31m1.1 MB/s\u001b[0m eta \u001b[36m0:00:00\u001b[0m00:01\u001b[0m00:01\u001b[0m0m\n",
      "\u001b[?25hDownloading torch-2.5.1-cp312-cp312-manylinux1_x86_64.whl (906.4 MB)\n",
      "\u001b[2K   \u001b[90m━━━━━━━━━━━━━━━━━━━━━━━━━━━━━━━━━━━━━━━\u001b[0m \u001b[32m906.4/906.4 MB\u001b[0m \u001b[31m776.0 kB/s\u001b[0m eta \u001b[36m0:00:00\u001b[0m0:01\u001b[0m00:21\u001b[0mm\n",
      "\u001b[?25hInstalling collected packages: torch, torchvision\n",
      "  Attempting uninstall: torch\n",
      "    Found existing installation: torch 2.5.0\n",
      "    Uninstalling torch-2.5.0:\n",
      "      Successfully uninstalled torch-2.5.0\n",
      "Successfully installed torch-2.5.1 torchvision-0.20.1\n"
     ]
    }
   ],
   "source": [
    "# !pip install torchvision"
   ]
  },
  {
   "cell_type": "code",
   "execution_count": 10,
   "metadata": {},
   "outputs": [],
   "source": [
    "import torch\n",
    "from torchvision import transforms\n",
    "from torch.utils.data import Dataset, DataLoader\n",
    "from pathlib import Path\n",
    "\n",
    "# Specify the absolute path for saving tensors\n",
    "external_path = Path(\"/media/yanncauchepin/ExternalDisk/RunningCode/digit_recognizer\")\n",
    "external_path.mkdir(parents=True, exist_ok=True)  # Create directory if it doesn't exist\n",
    "\n",
    "# Define transformation pipeline\n",
    "transform = transforms.Compose([\n",
    "    transforms.Lambda(lambda x: torch.tensor(x.reshape(28, 28), dtype=torch.float32).unsqueeze(0)),\n",
    "    transforms.Resize((224, 224)),\n",
    "    transforms.Lambda(lambda x: x.expand(3, -1, -1)),\n",
    "    transforms.Normalize((0.5,), (0.5,))\n",
    "])\n",
    "\n",
    "# Split and transform the dataset, saving each item to the external disk\n",
    "def save_data_to_disk(data, labels, transform, path, prefix=\"train\"):\n",
    "    for i, (img, label) in enumerate(zip(data, labels)):\n",
    "        img_tensor = transform(img)  # Apply transformations\n",
    "        torch.save((img_tensor, torch.tensor(label)), path / f\"{prefix}_{i}.pt\")  # Save to disk\n",
    "\n",
    "# Save the transformed training and validation data to external disk\n",
    "save_data_to_disk(X_train, y_train, transform, external_path, prefix=\"train\")\n",
    "save_data_to_disk(X_valid, y_valid, transform, external_path, prefix=\"valid\")\n",
    "\n",
    "# Custom Dataset to load data from external disk on-the-fly\n",
    "class DiskDataset(Dataset):\n",
    "    def __init__(self, path, prefix=\"train\"):\n",
    "        self.path = path\n",
    "        self.files = list(path.glob(f\"{prefix}_*.pt\"))  # Get all files with the prefix\n",
    "\n",
    "    def __len__(self):\n",
    "        return len(self.files)\n",
    "\n",
    "    def __getitem__(self, idx):\n",
    "        data = torch.load(self.files[idx])  # Load tensor from disk\n",
    "        return data\n",
    "\n",
    "# Create DataLoaders for training and validation\n",
    "train_dataset = DiskDataset(external_path, prefix=\"train\")\n",
    "valid_dataset = DiskDataset(external_path, prefix=\"valid\")\n",
    "\n",
    "train_loader = DataLoader(train_dataset, batch_size=3, shuffle=True)\n",
    "valid_loader = DataLoader(valid_dataset, batch_size=3)"
   ]
  },
  {
   "cell_type": "code",
   "execution_count": 11,
   "metadata": {},
   "outputs": [
    {
     "name": "stderr",
     "output_type": "stream",
     "text": [
      "2024-11-02 23:02:56.570102: E external/local_xla/xla/stream_executor/cuda/cuda_fft.cc:485] Unable to register cuFFT factory: Attempting to register factory for plugin cuFFT when one has already been registered\n",
      "2024-11-02 23:02:56.739895: E external/local_xla/xla/stream_executor/cuda/cuda_dnn.cc:8454] Unable to register cuDNN factory: Attempting to register factory for plugin cuDNN when one has already been registered\n",
      "2024-11-02 23:02:56.783626: E external/local_xla/xla/stream_executor/cuda/cuda_blas.cc:1452] Unable to register cuBLAS factory: Attempting to register factory for plugin cuBLAS when one has already been registered\n",
      "2024-11-02 23:02:57.069157: I tensorflow/core/platform/cpu_feature_guard.cc:210] This TensorFlow binary is optimized to use available CPU instructions in performance-critical operations.\n",
      "To enable the following instructions: AVX2 FMA, in other operations, rebuild TensorFlow with the appropriate compiler flags.\n",
      "2024-11-02 23:02:58.956709: W tensorflow/compiler/tf2tensorrt/utils/py_utils.cc:38] TF-TRT Warning: Could not find TensorRT\n",
      "Some weights of ViTForImageClassification were not initialized from the model checkpoint at google/vit-base-patch16-224-in21k and are newly initialized: ['classifier.bias', 'classifier.weight']\n",
      "You should probably TRAIN this model on a down-stream task to be able to use it for predictions and inference.\n",
      "/home/yanncauchepin/Git/.venv/lib/python3.12/site-packages/transformers/optimization.py:591: FutureWarning: This implementation of AdamW is deprecated and will be removed in a future version. Use the PyTorch implementation torch.optim.AdamW instead, or set `no_deprecation_warning=True` to disable this warning\n",
      "  warnings.warn(\n",
      "  0%|          | 0/11200 [00:00<?, ?it/s]/tmp/ipykernel_25585/2351370505.py:38: FutureWarning: You are using `torch.load` with `weights_only=False` (the current default value), which uses the default pickle module implicitly. It is possible to construct malicious pickle data which will execute arbitrary code during unpickling (See https://github.com/pytorch/pytorch/blob/main/SECURITY.md#untrusted-models for more details). In a future release, the default value for `weights_only` will be flipped to `True`. This limits the functions that could be executed during unpickling. Arbitrary objects will no longer be allowed to be loaded via this mode unless they are explicitly allowlisted by the user via `torch.serialization.add_safe_globals`. We recommend you start setting `weights_only=True` for any use case where you don't have full control of the loaded file. Please open an issue on GitHub for any issues related to this experimental feature.\n",
      "  data = torch.load(self.files[idx])  # Load tensor from disk\n",
      "100%|██████████| 11200/11200 [1:40:37<00:00,  1.85it/s]\n"
     ]
    },
    {
     "name": "stdout",
     "output_type": "stream",
     "text": [
      "Epoch 1/3, Training Loss: 0.6977\n"
     ]
    },
    {
     "name": "stderr",
     "output_type": "stream",
     "text": [
      "100%|██████████| 11200/11200 [1:34:05<00:00,  1.98it/s]\n"
     ]
    },
    {
     "name": "stdout",
     "output_type": "stream",
     "text": [
      "Epoch 2/3, Training Loss: 0.2149\n"
     ]
    },
    {
     "name": "stderr",
     "output_type": "stream",
     "text": [
      "100%|██████████| 11200/11200 [1:33:56<00:00,  1.99it/s]\n"
     ]
    },
    {
     "name": "stdout",
     "output_type": "stream",
     "text": [
      "Epoch 3/3, Training Loss: 0.1533\n",
      "Validation Accuracy: 0.9501\n",
      "Classification Report:\n",
      "               precision    recall  f1-score   support\n",
      "\n",
      "           0       0.99      0.97      0.98       827\n",
      "           1       0.98      0.99      0.99       937\n",
      "           2       0.98      0.91      0.94       835\n",
      "           3       0.89      0.92      0.90       870\n",
      "           4       0.99      0.94      0.97       814\n",
      "           5       0.84      0.98      0.91       759\n",
      "           6       0.99      0.97      0.98       827\n",
      "           7       0.97      0.96      0.97       880\n",
      "           8       0.95      0.91      0.93       813\n",
      "           9       0.94      0.94      0.94       838\n",
      "\n",
      "    accuracy                           0.95      8400\n",
      "   macro avg       0.95      0.95      0.95      8400\n",
      "weighted avg       0.95      0.95      0.95      8400\n",
      "\n",
      "(      Metric     Value\n",
      "0   F1 Score  0.950554\n",
      "1  Precision  0.952667\n",
      "2     Recall  0.950119,      1    0    4    7    3    5    8    9    2    6\n",
      "1  799    0    1    1    0    7    1    0   18    0\n",
      "0    1  932    2    0    0    1    0    1    0    0\n",
      "4    2    7  756   45    1    8    4    5    6    1\n",
      "7    0    0    1  801    0   57    0    4    3    4\n",
      "3    2    2    2    2  767    1    5    7    1   25\n",
      "5    0    0    1    7    0  747    0    1    2    1\n",
      "8    1    1    1    0    0   21  801    0    2    0\n",
      "9    0    4    0    6    2    4    0  848    0   16\n",
      "2    2    1    4   31    0   27    0    2  740    6\n",
      "6    2    2    2    8    5   18    0    6    5  790)\n"
     ]
    },
    {
     "data": {
      "application/vnd.jupyter.widget-view+json": {
       "model_id": "a077e2c4456a47fb8ed18f10785a980c",
       "version_major": 2,
       "version_minor": 0
      },
      "text/plain": [
       "model.safetensors:   0%|          | 0.00/343M [00:00<?, ?B/s]"
      ]
     },
     "metadata": {},
     "output_type": "display_data"
    },
    {
     "data": {
      "text/plain": [
       "CommitInfo(commit_url='https://huggingface.co/yanncauchepin/kaggle_digitrecognizer_vit_model/commit/00301fd101de7d31c7859b0db55ee00300b73253', commit_message='Upload ViTForImageClassification', commit_description='', oid='00301fd101de7d31c7859b0db55ee00300b73253', pr_url=None, repo_url=RepoUrl('https://huggingface.co/yanncauchepin/kaggle_digitrecognizer_vit_model', endpoint='https://huggingface.co', repo_type='model', repo_id='yanncauchepin/kaggle_digitrecognizer_vit_model'), pr_revision=None, pr_num=None)"
      ]
     },
     "execution_count": 11,
     "metadata": {},
     "output_type": "execute_result"
    }
   ],
   "source": [
    "from transformers import ViTForImageClassification, AdamW\n",
    "from tqdm import tqdm\n",
    "from sklearn.metrics import accuracy_score, classification_report\n",
    "\n",
    "# Initialize ViT model\n",
    "vit_classifier = ViTForImageClassification.from_pretrained(\n",
    "    'google/vit-base-patch16-224-in21k', \n",
    "    num_labels=10\n",
    ")\n",
    "device = torch.device(\"cuda\" if torch.cuda.is_available() else \"cpu\")\n",
    "vit_classifier.to(device)\n",
    "\n",
    "# Training setup\n",
    "optimizer = AdamW(vit_classifier.parameters(), lr=1e-5)\n",
    "epochs = 3\n",
    "\n",
    "# Training loop\n",
    "for epoch in range(epochs):\n",
    "    vit_classifier.train()\n",
    "    train_loss = 0\n",
    "    for batch in tqdm(train_loader):\n",
    "        inputs, labels = batch\n",
    "        inputs, labels = inputs.to(device), labels.to(device)\n",
    "        \n",
    "        # Forward pass\n",
    "        outputs = vit_classifier(inputs, labels=labels)\n",
    "        loss = outputs.loss\n",
    "        train_loss += loss.item()\n",
    "        \n",
    "        # Backward pass and optimization\n",
    "        optimizer.zero_grad()\n",
    "        loss.backward()\n",
    "        optimizer.step()\n",
    "    \n",
    "    avg_train_loss = train_loss / len(train_loader)\n",
    "    print(f\"Epoch {epoch + 1}/{epochs}, Training Loss: {avg_train_loss:.4f}\")\n",
    "\n",
    "# Evaluation on validation set\n",
    "vit_classifier.eval()\n",
    "all_vit_classifier_preds, all_vit_classifier_labels = [], []\n",
    "\n",
    "with torch.no_grad():\n",
    "    for batch in valid_loader:\n",
    "        inputs, labels = batch\n",
    "        inputs, labels = inputs.to(device), labels.to(device)\n",
    "        \n",
    "        outputs = vit_classifier(inputs)\n",
    "        preds = torch.argmax(outputs.logits, axis=1)\n",
    "        \n",
    "        all_vit_classifier_preds.extend(preds.cpu().numpy())\n",
    "        all_vit_classifier_labels.extend(labels.cpu().numpy())\n",
    "\n",
    "# Calculate accuracy and classification report\n",
    "accuracy = accuracy_score(all_vit_classifier_labels, all_vit_classifier_preds)\n",
    "print(f\"Validation Accuracy: {accuracy:.4f}\")\n",
    "print(\"Classification Report:\\n\", classification_report(all_vit_classifier_labels, all_vit_classifier_preds))\n",
    "\n",
    "# Additional assessment (if function `evaluate_classifier` is defined)\n",
    "vit_classifier_assessment = evaluate_classifier(all_vit_classifier_labels, all_vit_classifier_preds)\n",
    "print(vit_classifier_assessment)\n",
    "\n",
    "vit_classifier.push_to_hub(\"yanncauchepin/kaggle_digitrecognizer_vit_model\")"
   ]
  },
  {
   "cell_type": "code",
   "execution_count": null,
   "metadata": {},
   "outputs": [
    {
     "name": "stderr",
     "output_type": "stream",
     "text": [
      "  0%|          | 0/9334 [00:00<?, ?it/s]/tmp/ipykernel_25585/3633612418.py:23: FutureWarning: You are using `torch.load` with `weights_only=False` (the current default value), which uses the default pickle module implicitly. It is possible to construct malicious pickle data which will execute arbitrary code during unpickling (See https://github.com/pytorch/pytorch/blob/main/SECURITY.md#untrusted-models for more details). In a future release, the default value for `weights_only` will be flipped to `True`. This limits the functions that could be executed during unpickling. Arbitrary objects will no longer be allowed to be loaded via this mode unless they are explicitly allowlisted by the user via `torch.serialization.add_safe_globals`. We recommend you start setting `weights_only=True` for any use case where you don't have full control of the loaded file. Please open an issue on GitHub for any issues related to this experimental feature.\n",
      "  data = torch.load(self.files[idx])\n",
      "100%|██████████| 9334/9334 [34:53<00:00,  4.46it/s]\n"
     ]
    },
    {
     "ename": "AttributeError",
     "evalue": "type object 'Dataset' has no attribute 'from_pandas'",
     "output_type": "error",
     "traceback": [
      "\u001b[0;31m---------------------------------------------------------------------------\u001b[0m",
      "\u001b[0;31mAttributeError\u001b[0m                            Traceback (most recent call last)",
      "Cell \u001b[0;32mIn[17], line 50\u001b[0m\n\u001b[1;32m     44\u001b[0m         test_preds\u001b[38;5;241m.\u001b[39mextend(preds\u001b[38;5;241m.\u001b[39mcpu()\u001b[38;5;241m.\u001b[39mnumpy())\n\u001b[1;32m     46\u001b[0m vit_classifier_submission_df \u001b[38;5;241m=\u001b[39m pd\u001b[38;5;241m.\u001b[39mDataFrame({\n\u001b[1;32m     47\u001b[0m     \u001b[38;5;124m\"\u001b[39m\u001b[38;5;124mImageId\u001b[39m\u001b[38;5;124m\"\u001b[39m: \u001b[38;5;28mrange\u001b[39m(\u001b[38;5;241m1\u001b[39m, \u001b[38;5;28mlen\u001b[39m(test_preds) \u001b[38;5;241m+\u001b[39m \u001b[38;5;241m1\u001b[39m),\n\u001b[1;32m     48\u001b[0m     \u001b[38;5;124m\"\u001b[39m\u001b[38;5;124mLabel\u001b[39m\u001b[38;5;124m\"\u001b[39m: test_preds\n\u001b[1;32m     49\u001b[0m })\n\u001b[0;32m---> 50\u001b[0m \u001b[43mDataset\u001b[49m\u001b[38;5;241;43m.\u001b[39;49m\u001b[43mfrom_pandas\u001b[49m(vit_classifier_submission_df)\u001b[38;5;241m.\u001b[39mpush_to_hub(\u001b[38;5;124m\"\u001b[39m\u001b[38;5;124myanncauchepin/kaggle_digitrecognizer_vit_submission_df.csv\u001b[39m\u001b[38;5;124m\"\u001b[39m)\n",
      "\u001b[0;31mAttributeError\u001b[0m: type object 'Dataset' has no attribute 'from_pandas'"
     ]
    }
   ],
   "source": [
    "def save_data_to_disk(data, labels, transform, path, prefix=\"train\"):\n",
    "    for i, (img, label) in enumerate(zip(data, labels)):\n",
    "        img_tensor = transform(img)  # Apply transformations\n",
    "        \n",
    "        # Save only the image tensor if the label is None\n",
    "        if label is None:\n",
    "            torch.save(img_tensor, path / f\"{prefix}_{i}.pt\")\n",
    "        else:\n",
    "            torch.save((img_tensor, torch.tensor(label)), path / f\"{prefix}_{i}.pt\")\n",
    "\n",
    "save_data_to_disk(X_test, [None] * len(X_test), transform, external_path, prefix=\"test\")  # Label is None for test\n",
    "\n",
    "class DiskDataset(Dataset):\n",
    "    def __init__(self, path, prefix=\"train\", include_labels=True):\n",
    "        self.path = path\n",
    "        self.files = list(path.glob(f\"{prefix}_*.pt\"))\n",
    "        self.include_labels = include_labels\n",
    "\n",
    "    def __len__(self):\n",
    "        return len(self.files)\n",
    "\n",
    "    def __getitem__(self, idx):\n",
    "        data = torch.load(self.files[idx])\n",
    "        \n",
    "        # Return data accordingly (without labels for test data)\n",
    "        if self.include_labels:\n",
    "            img_tensor, label = data\n",
    "            return img_tensor, label\n",
    "        else:\n",
    "            return data \n",
    "\n",
    "# Create a custom Dataset and DataLoader for the test set\n",
    "test_dataset = DiskDataset(external_path, prefix=\"test\", include_labels=False)\n",
    "test_loader = DataLoader(test_dataset, batch_size=3)\n",
    "\n",
    "vit_classifier.eval()\n",
    "test_preds = []\n",
    "\n",
    "with torch.no_grad():\n",
    "    for batch in tqdm(test_loader):\n",
    "        inputs = batch.to(device)  \n",
    "        outputs = vit_classifier(inputs)\n",
    "        preds = torch.argmax(outputs.logits, axis=1)\n",
    "        test_preds.extend(preds.cpu().numpy())\n",
    "\n",
    "vit_classifier_submission_df = pd.DataFrame({\n",
    "    \"ImageId\": range(1, len(test_preds) + 1),\n",
    "    \"Label\": test_preds\n",
    "})\n",
    "from datasets import Dataset\n",
    "Dataset.from_pandas(vit_classifier_submission_df).push_to_hub(\"yanncauchepin/kaggle_digitrecognizer_vit_submission_df\")\n"
   ]
  }
 ],
 "metadata": {
  "kernelspec": {
   "display_name": ".venv",
   "language": "python",
   "name": "python3"
  },
  "language_info": {
   "codemirror_mode": {
    "name": "ipython",
    "version": 3
   },
   "file_extension": ".py",
   "mimetype": "text/x-python",
   "name": "python",
   "nbconvert_exporter": "python",
   "pygments_lexer": "ipython3",
   "version": "3.10.2"
  }
 },
 "nbformat": 4,
 "nbformat_minor": 2
}
